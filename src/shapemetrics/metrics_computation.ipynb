{
 "cells": [
  {
   "cell_type": "markdown",
   "metadata": {},
   "source": [
    "# computation of shape metrics: parallelization"
   ]
  },
  {
   "cell_type": "code",
   "execution_count": 24,
   "metadata": {},
   "outputs": [],
   "source": [
    "import os\n",
    "import pandas as pd\n",
    "import numpy as np\n",
    "import matplotlib.pyplot as plt\n",
    "from matplotlib.pyplot import figure\n",
    "import math, random, time, os, sys, string\n",
    "import geopandas as gpd\n",
    "from shapely.geometry import Polygon, Point, MultiPolygon, LineString"
   ]
  },
  {
   "cell_type": "code",
   "execution_count": 25,
   "metadata": {},
   "outputs": [],
   "source": [
    "shp_path = '/Users/rodrigo/Documents/tfg/data/ups/ups_3395F.gpkg'\n",
    "shpfile = gpd.read_file(shp_path)\n",
    "pf = shpfile['geometry'][0]"
   ]
  },
  {
   "cell_type": "code",
   "execution_count": 4,
   "metadata": {},
   "outputs": [
    {
     "data": {
      "text/plain": [
       "'python setup.py build_ext --inplace'"
      ]
     },
     "execution_count": 4,
     "metadata": {},
     "output_type": "execute_result"
    }
   ],
   "source": [
    "\"python setup.py build_ext --inplace\""
   ]
  },
  {
   "cell_type": "code",
   "execution_count": 26,
   "metadata": {},
   "outputs": [],
   "source": [
    "import shapemetrics\n",
    "\n",
    "def shapemetrics_pol(polygon):\n",
    "    \n",
    "    featPntLst = shapemetrics.ConvertToGridPnts(polygon)\n",
    "    centroid = polygon.centroid\n",
    "    Xc, Yc = centroid.x, centroid.y\n",
    "    A = polygon.area\n",
    "    r = (A / math.pi)**.5       # radius of equal area circle (circle with area equal to shape area)\n",
    "\n",
    "    # COHESION #\n",
    "    interdist = shapemetrics.interpointDistance(featPntLst)\n",
    "    circ_interD = r * .9054\n",
    "    CohesionIndex = circ_interD / interdist\n",
    "    \n",
    "    # PROXIMITY #\n",
    "    D_to_Center, EAC_pix = shapemetrics.proximity(featPntLst,Xc,Yc,r)    \n",
    "    # avg distance to center for equal area circle...\n",
    "    circD = r * (2.0/3.0)\n",
    "    # proximity index (circle / shape)...\n",
    "    ProximityIndex = circD / D_to_Center         \n",
    "\n",
    "    # SPIN #\n",
    "    shpMOI = shapemetrics.spin(featPntLst,Xc,Yc)\n",
    "    # moment of inertia for equal area circle...\n",
    "    circ_MOI = .5 * r**2\n",
    "    # calculate spin index (circle / shape)...\n",
    "    Spin = circ_MOI / shpMOI    \n",
    "    \n",
    "    return A, r, CohesionIndex, ProximityIndex, Spin"
   ]
  },
  {
   "cell_type": "code",
   "execution_count": 30,
   "metadata": {},
   "outputs": [
    {
     "name": "stderr",
     "output_type": "stream",
     "text": [
      "[Parallel(n_jobs=6)]: Using backend LokyBackend with 6 concurrent workers.\n",
      "[Parallel(n_jobs=6)]: Done   6 out of   8 | elapsed:    2.4s remaining:    0.8s\n",
      "[Parallel(n_jobs=6)]: Done   8 out of   8 | elapsed:    4.0s finished\n"
     ]
    }
   ],
   "source": [
    "from joblib import Parallel, delayed\n",
    "num_cores = 6\n",
    "metrics = Parallel(n_jobs = num_cores, verbose = 1)(delayed(shapemetrics_pol)(pol) for pol in shpfile['geometry'][0:8])"
   ]
  },
  {
   "cell_type": "code",
   "execution_count": 32,
   "metadata": {},
   "outputs": [
    {
     "data": {
      "text/html": [
       "<div>\n",
       "<style scoped>\n",
       "    .dataframe tbody tr th:only-of-type {\n",
       "        vertical-align: middle;\n",
       "    }\n",
       "\n",
       "    .dataframe tbody tr th {\n",
       "        vertical-align: top;\n",
       "    }\n",
       "\n",
       "    .dataframe thead th {\n",
       "        text-align: right;\n",
       "    }\n",
       "</style>\n",
       "<table border=\"1\" class=\"dataframe\">\n",
       "  <thead>\n",
       "    <tr style=\"text-align: right;\">\n",
       "      <th></th>\n",
       "      <th>A</th>\n",
       "      <th>r</th>\n",
       "      <th>Cohesion</th>\n",
       "      <th>proximity</th>\n",
       "      <th>spin</th>\n",
       "    </tr>\n",
       "  </thead>\n",
       "  <tbody>\n",
       "    <tr>\n",
       "      <td>0</td>\n",
       "      <td>3.094636e+07</td>\n",
       "      <td>3138.555710</td>\n",
       "      <td>0.905991</td>\n",
       "      <td>0.913345</td>\n",
       "      <td>0.814558</td>\n",
       "    </tr>\n",
       "    <tr>\n",
       "      <td>1</td>\n",
       "      <td>3.793492e+07</td>\n",
       "      <td>3474.918906</td>\n",
       "      <td>0.922441</td>\n",
       "      <td>0.924614</td>\n",
       "      <td>0.835310</td>\n",
       "    </tr>\n",
       "    <tr>\n",
       "      <td>2</td>\n",
       "      <td>3.493896e+07</td>\n",
       "      <td>3334.878695</td>\n",
       "      <td>0.925010</td>\n",
       "      <td>0.931242</td>\n",
       "      <td>0.847344</td>\n",
       "    </tr>\n",
       "    <tr>\n",
       "      <td>3</td>\n",
       "      <td>3.693504e+07</td>\n",
       "      <td>3428.817289</td>\n",
       "      <td>0.931248</td>\n",
       "      <td>0.937375</td>\n",
       "      <td>0.858605</td>\n",
       "    </tr>\n",
       "    <tr>\n",
       "      <td>4</td>\n",
       "      <td>3.893138e+07</td>\n",
       "      <td>3520.261931</td>\n",
       "      <td>0.928868</td>\n",
       "      <td>0.934673</td>\n",
       "      <td>0.856355</td>\n",
       "    </tr>\n",
       "    <tr>\n",
       "      <td>5</td>\n",
       "      <td>3.893138e+07</td>\n",
       "      <td>3520.261931</td>\n",
       "      <td>0.927116</td>\n",
       "      <td>0.930280</td>\n",
       "      <td>0.848284</td>\n",
       "    </tr>\n",
       "    <tr>\n",
       "      <td>6</td>\n",
       "      <td>3.992995e+07</td>\n",
       "      <td>3565.122428</td>\n",
       "      <td>0.923491</td>\n",
       "      <td>0.927796</td>\n",
       "      <td>0.844064</td>\n",
       "    </tr>\n",
       "    <tr>\n",
       "      <td>7</td>\n",
       "      <td>4.592056e+07</td>\n",
       "      <td>3823.214537</td>\n",
       "      <td>0.921178</td>\n",
       "      <td>0.924916</td>\n",
       "      <td>0.839148</td>\n",
       "    </tr>\n",
       "  </tbody>\n",
       "</table>\n",
       "</div>"
      ],
      "text/plain": [
       "              A            r  Cohesion  proximity      spin\n",
       "0  3.094636e+07  3138.555710  0.905991   0.913345  0.814558\n",
       "1  3.793492e+07  3474.918906  0.922441   0.924614  0.835310\n",
       "2  3.493896e+07  3334.878695  0.925010   0.931242  0.847344\n",
       "3  3.693504e+07  3428.817289  0.931248   0.937375  0.858605\n",
       "4  3.893138e+07  3520.261931  0.928868   0.934673  0.856355\n",
       "5  3.893138e+07  3520.261931  0.927116   0.930280  0.848284\n",
       "6  3.992995e+07  3565.122428  0.923491   0.927796  0.844064\n",
       "7  4.592056e+07  3823.214537  0.921178   0.924916  0.839148"
      ]
     },
     "execution_count": 32,
     "metadata": {},
     "output_type": "execute_result"
    }
   ],
   "source": [
    "metricsdf = pd.DataFrame(metrics, columns=['A', 'r','Cohesion', 'proximity', 'spin'])\n",
    "metricsdf"
   ]
  },
  {
   "cell_type": "code",
   "execution_count": null,
   "metadata": {},
   "outputs": [],
   "source": [
    "\n",
    "shpfilemetrics.to_file('/Users/rodrigo/Documents/tfg/data/ups/shapemetrics.shp')\n",
    "# I need to do it for the actual shapes AND for the potential shapes!\n",
    "# Cythonize spin and proximity"
   ]
  },
  {
   "cell_type": "code",
   "execution_count": 29,
   "metadata": {},
   "outputs": [
    {
     "data": {
      "text/html": [
       "<div>\n",
       "<style scoped>\n",
       "    .dataframe tbody tr th:only-of-type {\n",
       "        vertical-align: middle;\n",
       "    }\n",
       "\n",
       "    .dataframe tbody tr th {\n",
       "        vertical-align: top;\n",
       "    }\n",
       "\n",
       "    .dataframe thead th {\n",
       "        text-align: right;\n",
       "    }\n",
       "</style>\n",
       "<table border=\"1\" class=\"dataframe\">\n",
       "  <thead>\n",
       "    <tr style=\"text-align: right;\">\n",
       "      <th></th>\n",
       "      <th>A</th>\n",
       "      <th>r</th>\n",
       "      <th>Cohesion</th>\n",
       "      <th>proximity</th>\n",
       "      <th>spin</th>\n",
       "    </tr>\n",
       "  </thead>\n",
       "  <tbody>\n",
       "    <tr>\n",
       "      <td>0</td>\n",
       "      <td>3.094636e+07</td>\n",
       "      <td>3138.555710</td>\n",
       "      <td>0.910156</td>\n",
       "      <td>0.913345</td>\n",
       "      <td>0.814558</td>\n",
       "    </tr>\n",
       "    <tr>\n",
       "      <td>1</td>\n",
       "      <td>3.793492e+07</td>\n",
       "      <td>3474.918906</td>\n",
       "      <td>0.917168</td>\n",
       "      <td>0.924614</td>\n",
       "      <td>0.835310</td>\n",
       "    </tr>\n",
       "    <tr>\n",
       "      <td>2</td>\n",
       "      <td>3.493896e+07</td>\n",
       "      <td>3334.878695</td>\n",
       "      <td>0.924389</td>\n",
       "      <td>0.931242</td>\n",
       "      <td>0.847344</td>\n",
       "    </tr>\n",
       "    <tr>\n",
       "      <td>3</td>\n",
       "      <td>3.693504e+07</td>\n",
       "      <td>3428.817289</td>\n",
       "      <td>0.932248</td>\n",
       "      <td>0.937375</td>\n",
       "      <td>0.858605</td>\n",
       "    </tr>\n",
       "    <tr>\n",
       "      <td>4</td>\n",
       "      <td>3.893138e+07</td>\n",
       "      <td>3520.261931</td>\n",
       "      <td>0.926758</td>\n",
       "      <td>0.934673</td>\n",
       "      <td>0.856355</td>\n",
       "    </tr>\n",
       "    <tr>\n",
       "      <td>5</td>\n",
       "      <td>3.893138e+07</td>\n",
       "      <td>3520.261931</td>\n",
       "      <td>0.926448</td>\n",
       "      <td>0.930280</td>\n",
       "      <td>0.848284</td>\n",
       "    </tr>\n",
       "    <tr>\n",
       "      <td>6</td>\n",
       "      <td>3.992995e+07</td>\n",
       "      <td>3565.122428</td>\n",
       "      <td>0.926258</td>\n",
       "      <td>0.927796</td>\n",
       "      <td>0.844064</td>\n",
       "    </tr>\n",
       "    <tr>\n",
       "      <td>7</td>\n",
       "      <td>4.592056e+07</td>\n",
       "      <td>3823.214537</td>\n",
       "      <td>0.921739</td>\n",
       "      <td>0.924916</td>\n",
       "      <td>0.839148</td>\n",
       "    </tr>\n",
       "  </tbody>\n",
       "</table>\n",
       "</div>"
      ],
      "text/plain": [
       "              A            r  Cohesion  proximity      spin\n",
       "0  3.094636e+07  3138.555710  0.910156   0.913345  0.814558\n",
       "1  3.793492e+07  3474.918906  0.917168   0.924614  0.835310\n",
       "2  3.493896e+07  3334.878695  0.924389   0.931242  0.847344\n",
       "3  3.693504e+07  3428.817289  0.932248   0.937375  0.858605\n",
       "4  3.893138e+07  3520.261931  0.926758   0.934673  0.856355\n",
       "5  3.893138e+07  3520.261931  0.926448   0.930280  0.848284\n",
       "6  3.992995e+07  3565.122428  0.926258   0.927796  0.844064\n",
       "7  4.592056e+07  3823.214537  0.921739   0.924916  0.839148"
      ]
     },
     "execution_count": 29,
     "metadata": {},
     "output_type": "execute_result"
    }
   ],
   "source": [
    "metrics"
   ]
  },
  {
   "cell_type": "code",
   "execution_count": 22,
   "metadata": {},
   "outputs": [
    {
     "data": {
      "text/plain": [
       "30.94635879057193"
      ]
     },
     "execution_count": 22,
     "metadata": {},
     "output_type": "execute_result"
    }
   ],
   "source": [
    "pf.area/1000000"
   ]
  },
  {
   "cell_type": "code",
   "execution_count": 23,
   "metadata": {},
   "outputs": [
    {
     "data": {
      "text/plain": [
       "{'init': 'epsg:3395'}"
      ]
     },
     "execution_count": 23,
     "metadata": {},
     "output_type": "execute_result"
    }
   ],
   "source": [
    "shpfile.crs"
   ]
  },
  {
   "cell_type": "code",
   "execution_count": null,
   "metadata": {},
   "outputs": [],
   "source": [
    "10**6"
   ]
  }
 ],
 "metadata": {
  "kernelspec": {
   "display_name": "Python 3",
   "language": "python",
   "name": "python3"
  },
  "language_info": {
   "codemirror_mode": {
    "name": "ipython",
    "version": 3
   },
   "file_extension": ".py",
   "mimetype": "text/x-python",
   "name": "python",
   "nbconvert_exporter": "python",
   "pygments_lexer": "ipython3",
   "version": "3.7.4"
  }
 },
 "nbformat": 4,
 "nbformat_minor": 2
}
