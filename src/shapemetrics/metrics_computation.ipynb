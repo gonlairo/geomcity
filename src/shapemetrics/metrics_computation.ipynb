{
 "cells": [
  {
   "cell_type": "markdown",
   "metadata": {},
   "source": [
    "# computation of shape metrics: parallelization"
   ]
  },
  {
   "cell_type": "code",
   "execution_count": 1,
   "metadata": {},
   "outputs": [],
   "source": [
    "import os\n",
    "import pandas as pd\n",
    "import numpy as np\n",
    "import matplotlib.pyplot as plt\n",
    "from matplotlib.pyplot import figure\n",
    "import math, random, time, os, sys, string\n",
    "import geopandas as gpd\n",
    "from shapely.geometry import Polygon, Point, MultiPolygon, LineString"
   ]
  },
  {
   "cell_type": "code",
   "execution_count": 2,
   "metadata": {},
   "outputs": [],
   "source": [
    "shp_path = '/Users/rodrigo/Library/Mobile Documents/com~apple~CloudDocs/Documents/tfg/data/ups/ramdom_pf.shp'\n",
    "shpfile = gpd.read_file(shp_path)"
   ]
  },
  {
   "cell_type": "code",
   "execution_count": null,
   "metadata": {},
   "outputs": [],
   "source": [
    "\"python setup.py build_ext --inplace\""
   ]
  },
  {
   "cell_type": "code",
   "execution_count": 16,
   "metadata": {},
   "outputs": [],
   "source": [
    "import shapemetrics\n",
    "\n",
    "def shapemetrics(polygon):\n",
    "    results = []\n",
    "    featPntLst = shapemetrics.ConvertToGridPnts(polygon)\n",
    "    centroid = polygon.centroid\n",
    "    Xc, Yc = centroid.x, centroid.y\n",
    "    A = polygon.area\n",
    "    r = (A / math.pi)**.5       # radius of equal area circle (circle with area equal to shape area)\n",
    "\n",
    "    # COHESION #\n",
    "    interdist = shapemetrics.interpointDistance(featPntLst)\n",
    "    circ_interD = r * .9054\n",
    "    CohesionIndex = circ_interD / interdist\n",
    "    \n",
    "    # PROXIMITY #\n",
    "    D_to_Center, EAC_pix = shapemetrics.proximity(featPntLst,Xc,Yc,r)    \n",
    "    # avg distance to center for equal area circle...\n",
    "    circD = r * (2.0/3.0)\n",
    "    # proximity index (circle / shape)...\n",
    "    ProximityIndex = circD / D_to_Center         \n",
    "\n",
    "    # SPIN #\n",
    "    shpMOI = Helper_tool.spin(featPntLst,Xc,Yc)\n",
    "    # moment of inertia for equal area circle...\n",
    "    circ_MOI = .5 * r**2\n",
    "    # calculate spin index (circle / shape)...\n",
    "    Spin = circ_MOI / shpMOI    \n",
    "    \n",
    "    return '???'"
   ]
  },
  {
   "cell_type": "code",
   "execution_count": null,
   "metadata": {},
   "outputs": [],
   "source": [
    "from joblib import Parallel, delayed\n",
    "num_cores = 6\n",
    "metrics = Parallel(n_jobs = num_cores, verbose = 1)(delayed(shapemetrics)(pol) for pol in shapefile['geometry'])"
   ]
  },
  {
   "cell_type": "code",
   "execution_count": null,
   "metadata": {},
   "outputs": [],
   "source": [
    "metrics = pd.DataFrame(results, columns=['area', 'interdist', 'cohesion'])\n",
    "shpfilemetrics = pd.concat([shpfile, metrics], axis = 1)\n",
    "shpfilemetrics.to_file('/Users/rodrigo/Documents/tfg/data/ups/shapemetrics.shp')"
   ]
  },
  {
   "cell_type": "code",
   "execution_count": null,
   "metadata": {},
   "outputs": [],
   "source": [
    "# I need to do it for the actual shapes AND for the potential shapes!\n",
    "# Cythonize spin and proximity"
   ]
  }
 ],
 "metadata": {
  "kernelspec": {
   "display_name": "Python 3",
   "language": "python",
   "name": "python3"
  },
  "language_info": {
   "codemirror_mode": {
    "name": "ipython",
    "version": 3
   },
   "file_extension": ".py",
   "mimetype": "text/x-python",
   "name": "python",
   "nbconvert_exporter": "python",
   "pygments_lexer": "ipython3",
   "version": "3.7.4"
  }
 },
 "nbformat": 4,
 "nbformat_minor": 2
}
