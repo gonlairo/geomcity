{
 "cells": [
  {
   "cell_type": "markdown",
   "metadata": {},
   "source": [
    "## shapemetrics: grid with rings\n"
   ]
  },
  {
   "cell_type": "code",
   "execution_count": 1,
   "metadata": {},
   "outputs": [],
   "source": [
    "import os\n",
    "import pandas as pd\n",
    "import numpy as np\n",
    "import matplotlib.pyplot as plt\n",
    "from matplotlib.pyplot import figure\n",
    "import math, random, time, os, sys, string\n",
    "import geopandas as gpd\n",
    "from shapely.geometry import Polygon, Point, MultiPolygon, LineString"
   ]
  },
  {
   "cell_type": "code",
   "execution_count": 2,
   "metadata": {},
   "outputs": [
    {
     "data": {
      "text/html": [
       "<div>\n",
       "<style scoped>\n",
       "    .dataframe tbody tr th:only-of-type {\n",
       "        vertical-align: middle;\n",
       "    }\n",
       "\n",
       "    .dataframe tbody tr th {\n",
       "        vertical-align: top;\n",
       "    }\n",
       "\n",
       "    .dataframe thead th {\n",
       "        text-align: right;\n",
       "    }\n",
       "</style>\n",
       "<table border=\"1\" class=\"dataframe\">\n",
       "  <thead>\n",
       "    <tr style=\"text-align: right;\">\n",
       "      <th></th>\n",
       "      <th>sum_lights</th>\n",
       "      <th>country</th>\n",
       "      <th>year</th>\n",
       "      <th>id</th>\n",
       "      <th>id_country</th>\n",
       "      <th>subregn</th>\n",
       "      <th>contnnt</th>\n",
       "      <th>area_R</th>\n",
       "      <th>geometry</th>\n",
       "    </tr>\n",
       "  </thead>\n",
       "  <tbody>\n",
       "    <tr>\n",
       "      <td>0</td>\n",
       "      <td>65282.0</td>\n",
       "      <td>Afghanistan</td>\n",
       "      <td>1992</td>\n",
       "      <td>1</td>\n",
       "      <td>AFG</td>\n",
       "      <td>SA</td>\n",
       "      <td>Asia</td>\n",
       "      <td>22.811040</td>\n",
       "      <td>POLYGON ((7399488.344 3600521.107, 7400416.006...</td>\n",
       "    </tr>\n",
       "    <tr>\n",
       "      <td>1</td>\n",
       "      <td>86105.0</td>\n",
       "      <td>Afghanistan</td>\n",
       "      <td>1993</td>\n",
       "      <td>1</td>\n",
       "      <td>AFG</td>\n",
       "      <td>SA</td>\n",
       "      <td>Asia</td>\n",
       "      <td>27.961435</td>\n",
       "      <td>POLYGON ((7399488.344 3599445.146, 7399488.344...</td>\n",
       "    </tr>\n",
       "    <tr>\n",
       "      <td>2</td>\n",
       "      <td>72725.5</td>\n",
       "      <td>Afghanistan</td>\n",
       "      <td>1994</td>\n",
       "      <td>1</td>\n",
       "      <td>AFG</td>\n",
       "      <td>SA</td>\n",
       "      <td>Asia</td>\n",
       "      <td>25.754742</td>\n",
       "      <td>POLYGON ((7399488.344 3599445.146, 7399488.344...</td>\n",
       "    </tr>\n",
       "    <tr>\n",
       "      <td>3</td>\n",
       "      <td>80076.5</td>\n",
       "      <td>Afghanistan</td>\n",
       "      <td>1995</td>\n",
       "      <td>1</td>\n",
       "      <td>AFG</td>\n",
       "      <td>SA</td>\n",
       "      <td>Asia</td>\n",
       "      <td>27.226751</td>\n",
       "      <td>POLYGON ((7399488.344 3599445.146, 7399488.344...</td>\n",
       "    </tr>\n",
       "    <tr>\n",
       "      <td>4</td>\n",
       "      <td>85303.5</td>\n",
       "      <td>Afghanistan</td>\n",
       "      <td>1996</td>\n",
       "      <td>1</td>\n",
       "      <td>AFG</td>\n",
       "      <td>SA</td>\n",
       "      <td>Asia</td>\n",
       "      <td>28.698570</td>\n",
       "      <td>POLYGON ((7396705.358 3598369.280, 7396705.358...</td>\n",
       "    </tr>\n",
       "  </tbody>\n",
       "</table>\n",
       "</div>"
      ],
      "text/plain": [
       "   sum_lights      country  year  id id_country subregn contnnt     area_R  \\\n",
       "0     65282.0  Afghanistan  1992   1        AFG      SA    Asia  22.811040   \n",
       "1     86105.0  Afghanistan  1993   1        AFG      SA    Asia  27.961435   \n",
       "2     72725.5  Afghanistan  1994   1        AFG      SA    Asia  25.754742   \n",
       "3     80076.5  Afghanistan  1995   1        AFG      SA    Asia  27.226751   \n",
       "4     85303.5  Afghanistan  1996   1        AFG      SA    Asia  28.698570   \n",
       "\n",
       "                                            geometry  \n",
       "0  POLYGON ((7399488.344 3600521.107, 7400416.006...  \n",
       "1  POLYGON ((7399488.344 3599445.146, 7399488.344...  \n",
       "2  POLYGON ((7399488.344 3599445.146, 7399488.344...  \n",
       "3  POLYGON ((7399488.344 3599445.146, 7399488.344...  \n",
       "4  POLYGON ((7396705.358 3598369.280, 7396705.358...  "
      ]
     },
     "execution_count": 2,
     "metadata": {},
     "output_type": "execute_result"
    }
   ],
   "source": [
    "shp_path = '/Users/rodrigo/Documents/tfg/data/ups/ups_3395F.gpkg'\n",
    "shpfile = gpd.read_file(shp_path)\n",
    "shpfile.head()"
   ]
  },
  {
   "cell_type": "code",
   "execution_count": 3,
   "metadata": {},
   "outputs": [
    {
     "data": {
      "image/svg+xml": [
       "<svg xmlns=\"http://www.w3.org/2000/svg\" xmlns:xlink=\"http://www.w3.org/1999/xlink\" width=\"300\" height=\"300\" viewBox=\"7392693.387498256 3598067.9576793844 8023.9405133361 8135.69529112149\" preserveAspectRatio=\"xMinYMin meet\"><g transform=\"matrix(1,0,0,-1,0,7204271.61064989)\"><path fill-rule=\"evenodd\" fill=\"#66cc99\" stroke=\"#555555\" stroke-width=\"54.2379686074766\" opacity=\"0.6\" d=\"M 7399488.343911561,3599445.1458230047 L 7399488.343911561,3598369.279727204 L 7398560.681859349,3598369.279727204 L 7397633.019807137,3598369.279727204 L 7396705.357754924,3598369.279727204 L 7395777.695702712,3598369.279727204 L 7394850.033650499,3598369.279727204 L 7394850.033650499,3599445.1458230047 L 7393922.371598288,3599445.1458230047 L 7393922.371598288,3600521.1065447847 L 7392994.709546075,3600521.1065447847 L 7392994.709546075,3601597.161931941 L 7392994.709546075,3602673.312023877 L 7392994.709546075,3603749.5568600213 L 7392994.709546075,3604825.8964798055 L 7393922.371598288,3604825.8964798055 L 7394850.033650499,3604825.8964798055 L 7394850.033650499,3605902.3309226865 L 7395777.695702712,3605902.3309226865 L 7395777.695702712,3604825.8964798055 L 7396705.357754924,3604825.8964798055 L 7396705.357754924,3605902.3309226865 L 7397633.019807137,3605902.3309226865 L 7397633.019807137,3604825.8964798055 L 7398560.681859349,3604825.8964798055 L 7399488.343911561,3604825.8964798055 L 7399488.343911561,3603749.5568600213 L 7399488.343911561,3602673.312023877 L 7398560.681859349,3602673.312023877 L 7397633.019807137,3602673.312023877 L 7397633.019807137,3601597.161931941 L 7397633.019807137,3600521.1065447847 L 7398560.681859349,3600521.1065447847 L 7399488.343911561,3600521.1065447847 L 7400416.005963773,3600521.1065447847 L 7400416.005963773,3599445.1458230047 L 7399488.343911561,3599445.1458230047 z\" /></g></svg>"
      ],
      "text/plain": [
       "<shapely.geometry.polygon.Polygon at 0x7fa21e3212d0>"
      ]
     },
     "metadata": {},
     "output_type": "display_data"
    }
   ],
   "source": [
    "pf = shpfile['geometry'][1]\n",
    "display(pf)"
   ]
  },
  {
   "cell_type": "code",
   "execution_count": 4,
   "metadata": {},
   "outputs": [
    {
     "name": "stdout",
     "output_type": "stream",
     "text": [
      "('bound time', 0.0742025375366211)\n"
     ]
    },
    {
     "data": {
      "image/png": "[encoded data removed]",
      "text/plain": [
       "<Figure size 640x480 with 1 Axes>"
      ]
     },
     "metadata": {},
     "output_type": "display_data"
    }
   ],
   "source": [
    "import shapemetrics\n",
    "points = shapemetrics.ConvertToGridPnts(pf)\n",
    "xs = [x[0] for x in points]\n",
    "ys = [x[1] for x in points]\n",
    "figure(num=None, figsize=(8, 6), dpi=80, facecolor='w', edgecolor='k')\n",
    "ax = plt.gca()\n",
    "ax.set_aspect('equal', adjustable='datalim')\n",
    "plt.scatter(xs, ys, s = 2)\n",
    "plt.show()"
   ]
  },
  {
   "cell_type": "code",
   "execution_count": 8,
   "metadata": {},
   "outputs": [
    {
     "name": "stdout",
     "output_type": "stream",
     "text": [
      "3410.6123046875\n",
      "(2505.4921875, 8319)\n",
      "7227896.5\n"
     ]
    }
   ],
   "source": [
    "centroid = pf.centroid\n",
    "Xc, Yc = centroid.x, centroid.y\n",
    "A = pf.area\n",
    "r = (A / math.pi)**.5\n",
    "print(shapemetrics.interpointDistance(points))\n",
    "print(shapemetrics.proximity(points, Xc, Yc, r))\n",
    "print(shapemetrics.spin(points, Xc, Yc))"
   ]
  }
 ],
 "metadata": {
  "kernelspec": {
   "display_name": "Python 3",
   "language": "python",
   "name": "python3"
  },
  "language_info": {
   "codemirror_mode": {
    "name": "ipython",
    "version": 3
   },
   "file_extension": ".py",
   "mimetype": "text/x-python",
   "name": "python",
   "nbconvert_exporter": "python",
   "pygments_lexer": "ipython3",
   "version": "3.7.4"
  },
  "nteract": {
   "version": "0.21.0"
  }
 },
 "nbformat": 4,
 "nbformat_minor": 2
}
