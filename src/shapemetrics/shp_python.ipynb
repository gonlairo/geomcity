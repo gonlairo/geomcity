{
 "cells": [
  {
   "cell_type": "markdown",
   "metadata": {},
   "source": [
    "## shapemetrics: grid with multipolygons and rings\n"
   ]
  },
  {
   "cell_type": "code",
   "execution_count": 1,
   "metadata": {},
   "outputs": [],
   "source": [
    "import os\n",
    "import pandas as pd\n",
    "import numpy as np\n",
    "import matplotlib.pyplot as plt\n",
    "from matplotlib.pyplot import figure\n",
    "import math, random, time, os, sys, string\n",
    "\n",
    "#geometry\n",
    "import geopandas as gpd\n",
    "from shapely.geometry import Polygon, Point, MultiPolygon\n",
    "import mp_helper_tool_rodrigo\n",
    "import helper_tool_rodrigo"
   ]
  },
  {
   "cell_type": "code",
   "execution_count": 2,
   "metadata": {},
   "outputs": [
    {
     "name": "stdout",
     "output_type": "stream",
     "text": [
      "{'init': 'epsg:3395'}\n"
     ]
    },
    {
     "data": {
      "text/html": [
       "<div>\n",
       "<style scoped>\n",
       "    .dataframe tbody tr th:only-of-type {\n",
       "        vertical-align: middle;\n",
       "    }\n",
       "\n",
       "    .dataframe tbody tr th {\n",
       "        vertical-align: top;\n",
       "    }\n",
       "\n",
       "    .dataframe thead th {\n",
       "        text-align: right;\n",
       "    }\n",
       "</style>\n",
       "<table border=\"1\" class=\"dataframe\">\n",
       "  <thead>\n",
       "    <tr style=\"text-align: right;\">\n",
       "      <th></th>\n",
       "      <th>id</th>\n",
       "      <th>geometry</th>\n",
       "    </tr>\n",
       "  </thead>\n",
       "  <tbody>\n",
       "    <tr>\n",
       "      <td>0</td>\n",
       "      <td>22</td>\n",
       "      <td>POLYGON ((7841750.161 4069156.139, 7843348.401...</td>\n",
       "    </tr>\n",
       "    <tr>\n",
       "      <td>1</td>\n",
       "      <td>23</td>\n",
       "      <td>POLYGON ((7841430.514 4070115.083, 7843668.048...</td>\n",
       "    </tr>\n",
       "    <tr>\n",
       "      <td>2</td>\n",
       "      <td>24</td>\n",
       "      <td>POLYGON ((7841110.866 4071074.026, 7843987.696...</td>\n",
       "    </tr>\n",
       "    <tr>\n",
       "      <td>3</td>\n",
       "      <td>25</td>\n",
       "      <td>POLYGON ((7841909.985 4072192.793, 7843188.577...</td>\n",
       "    </tr>\n",
       "    <tr>\n",
       "      <td>4</td>\n",
       "      <td>26</td>\n",
       "      <td>POLYGON ((7841270.690 4073151.737, 7843827.872...</td>\n",
       "    </tr>\n",
       "  </tbody>\n",
       "</table>\n",
       "</div>"
      ],
      "text/plain": [
       "   id                                           geometry\n",
       "0  22  POLYGON ((7841750.161 4069156.139, 7843348.401...\n",
       "1  23  POLYGON ((7841430.514 4070115.083, 7843668.048...\n",
       "2  24  POLYGON ((7841110.866 4071074.026, 7843987.696...\n",
       "3  25  POLYGON ((7841909.985 4072192.793, 7843188.577...\n",
       "4  26  POLYGON ((7841270.690 4073151.737, 7843827.872..."
      ]
     },
     "execution_count": 2,
     "metadata": {},
     "output_type": "execute_result"
    }
   ],
   "source": [
    "shp_path = '/Users/rodrigo/Documents/tfg/data/ups/potential_footprints.shp'\n",
    "shpfile = gpd.read_file(shp_path)\n",
    "print(shpfile.crs)\n",
    "shpfile.head()"
   ]
  },
  {
   "cell_type": "code",
   "execution_count": 80,
   "metadata": {},
   "outputs": [
    {
     "data": {
      "image/svg+xml": [
       "<svg xmlns=\"http://www.w3.org/2000/svg\" xmlns:xlink=\"http://www.w3.org/1999/xlink\" width=\"300\" height=\"300\" viewBox=\"7836156.3244237155 4056689.873775721 12785.913080031984 12945.736993532162\" preserveAspectRatio=\"xMinYMin meet\"><g transform=\"matrix(1,0,0,-1,0,8126325.484544974)\"><path fill-rule=\"evenodd\" fill=\"#66cc99\" stroke=\"#555555\" stroke-width=\"86.30491329021442\" opacity=\"0.6\" d=\"M 7841750.16139623,4069156.139028752 L 7843348.400531233,4069156.139028752 L 7843348.400531233,4068996.315115252 L 7844147.520098736,4068996.315115252 L 7844147.520098736,4068676.667288251 L 7844307.344012236,4068676.667288251 L 7844307.344012236,4068357.0194612504 L 7844147.520098736,4068357.0194612504 L 7844147.520098736,4068197.1955477498 L 7844467.167925736,4068197.1955477498 L 7844467.167925736,4068037.3716342496 L 7844307.344012236,4068037.3716342496 L 7844147.520098736,4068037.3716342496 L 7844147.520098736,4067717.7238072488 L 7844467.167925736,4067717.7238072488 L 7844467.167925736,4067877.547720749 L 7844946.639666238,4067877.547720749 L 7845106.463579738,4067877.547720749 L 7845106.463579738,4068037.3716342496 L 7846065.4070607405,4068037.3716342496 L 7846065.4070607405,4067877.547720749 L 7846385.054887741,4067877.547720749 L 7846385.054887741,4067717.7238072488 L 7846544.8788012415,4067717.7238072488 L 7846544.8788012415,4067557.899893748 L 7846704.702714742,4067557.899893748 L 7846704.702714742,4067398.075980248 L 7846864.526628243,4067398.075980248 L 7846864.526628243,4067238.2520667473 L 7847024.3505417425,4067238.2520667473 L 7847024.3505417425,4067078.428153247 L 7847184.174455243,4067078.428153247 L 7847184.174455243,4066918.6042397465 L 7847343.998368744,4066918.6042397465 L 7847343.998368744,4066598.9564127456 L 7847503.822282244,4066598.9564127456 L 7847503.822282244,4066439.1324992455 L 7847663.646195744,4066439.1324992455 L 7847663.646195744,4066119.4846722446 L 7847823.470109245,4066119.4846722446 L 7847823.470109245,4065799.836845244 L 7847983.294022745,4065799.836845244 L 7847983.294022745,4065480.189018243 L 7848143.117936246,4065480.189018243 L 7848143.117936246,4065160.541191242 L 7848302.941849746,4065160.541191242 L 7848302.941849746,4064521.2455372405 L 7848462.765763246,4064521.2455372405 L 7848462.765763246,4061804.2390077338 L 7848302.941849746,4061804.2390077338 L 7848302.941849746,4061164.943353732 L 7848143.117936246,4061164.943353732 L 7848143.117936246,4060845.2955267313 L 7847983.294022745,4060845.2955267313 L 7847983.294022745,4060525.6476997305 L 7847823.470109245,4060525.6476997305 L 7847823.470109245,4060205.9998727296 L 7847663.646195744,4060205.9998727296 L 7847663.646195744,4059886.352045729 L 7847503.822282244,4059886.352045729 L 7847503.822282244,4059726.5281322286 L 7847343.998368744,4059726.5281322286 L 7847343.998368744,4059406.880305228 L 7847184.174455243,4059406.880305228 L 7847184.174455243,4059247.056391727 L 7847024.3505417425,4059247.056391727 L 7847024.3505417425,4059087.232478227 L 7846864.526628243,4059087.232478227 L 7846864.526628243,4058927.4085647264 L 7846704.702714742,4058927.4085647264 L 7846704.702714742,4058767.584651226 L 7846544.8788012415,4058767.584651226 L 7846544.8788012415,4058607.7607377255 L 7846385.054887741,4058607.7607377255 L 7846385.054887741,4058447.9368242254 L 7846225.230974241,4058447.9368242254 L 7846065.4070607405,4058447.9368242254 L 7846065.4070607405,4058288.1129107247 L 7845905.58314724,4058288.1129107247 L 7845905.58314724,4058128.2889972245 L 7845745.759233739,4058128.2889972245 L 7845585.9353202395,4058128.2889972245 L 7845585.9353202395,4057968.465083724 L 7845426.111406739,4057968.465083724 L 7845426.111406739,4057808.6411702237 L 7845266.287493238,4057808.6411702237 L 7845106.463579738,4057808.6411702237 L 7845106.463579738,4057648.817256723 L 7844946.639666238,4057648.817256723 L 7844626.991839237,4057648.817256723 L 7844626.991839237,4057488.993343223 L 7844467.167925736,4057488.993343223 L 7844147.520098736,4057488.993343223 L 7844147.520098736,4057329.1694297222 L 7843987.696185235,4057329.1694297222 L 7843348.400531233,4057329.1694297222 L 7843348.400531233,4057169.345516222 L 7841750.16139623,4057169.345516222 L 7841750.16139623,4057329.1694297222 L 7840951.041828727,4057329.1694297222 L 7840951.041828727,4057488.993343223 L 7840471.570088226,4057488.993343223 L 7840471.570088226,4057648.817256723 L 7840151.922261225,4057648.817256723 L 7840151.922261225,4057808.6411702237 L 7839832.274434225,4057808.6411702237 L 7839832.274434225,4057968.465083724 L 7839512.626607223,4057968.465083724 L 7839512.626607223,4058128.2889972245 L 7839192.978780223,4058128.2889972245 L 7839192.978780223,4058288.1129107247 L 7839033.154866722,4058288.1129107247 L 7839033.154866722,4058447.9368242254 L 7838873.330953222,4058447.9368242254 L 7838873.330953222,4058607.7607377255 L 7838553.683126221,4058607.7607377255 L 7838553.683126221,4058767.584651226 L 7838393.859212721,4058767.584651226 L 7838393.859212721,4058927.4085647264 L 7838234.03529922,4058927.4085647264 L 7838234.03529922,4059087.232478227 L 7838074.21138572,4059087.232478227 L 7838074.21138572,4059406.880305228 L 7837914.38747222,4059406.880305228 L 7837914.38747222,4059566.704218728 L 7837754.563558719,4059566.704218728 L 7837754.563558719,4059726.5281322286 L 7837594.7396452185,4059726.5281322286 L 7837594.7396452185,4060046.1759592295 L 7837434.915731719,4060046.1759592295 L 7837434.915731719,4060205.9998727296 L 7837275.091818218,4060205.9998727296 L 7837275.091818218,4060525.6476997305 L 7837115.2679047175,4060525.6476997305 L 7837115.2679047175,4060845.2955267313 L 7836955.443991217,4060845.2955267313 L 7836955.443991217,4061324.7672672323 L 7836795.620077717,4061324.7672672323 L 7836795.620077717,4061964.062921234 L 7836635.7961642165,4061964.062921234 L 7836635.7961642165,4064361.4216237403 L 7836795.620077717,4064361.4216237403 L 7836795.620077717,4065000.717277742 L 7836955.443991217,4065000.717277742 L 7836955.443991217,4065480.189018243 L 7837115.2679047175,4065480.189018243 L 7837115.2679047175,4065799.836845244 L 7837275.091818218,4065799.836845244 L 7837275.091818218,4066119.4846722446 L 7837434.915731719,4066119.4846722446 L 7837434.915731719,4066279.308585745 L 7837594.7396452185,4066279.308585745 L 7837594.7396452185,4066598.9564127456 L 7837754.563558719,4066598.9564127456 L 7837754.563558719,4066758.7803262463 L 7837914.38747222,4066758.7803262463 L 7837914.38747222,4066918.6042397465 L 7838074.21138572,4066918.6042397465 L 7838074.21138572,4067238.2520667473 L 7838234.03529922,4067238.2520667473 L 7838234.03529922,4067398.075980248 L 7838393.859212721,4067398.075980248 L 7838393.859212721,4067557.899893748 L 7838553.683126221,4067557.899893748 L 7838553.683126221,4067717.7238072488 L 7838713.507039722,4067717.7238072488 L 7838873.330953222,4067717.7238072488 L 7838873.330953222,4067877.547720749 L 7839033.154866722,4067877.547720749 L 7839033.154866722,4068037.3716342496 L 7839192.978780223,4068037.3716342496 L 7839192.978780223,4068197.1955477498 L 7839352.802693724,4068197.1955477498 L 7839512.626607223,4068197.1955477498 L 7839512.626607223,4068357.0194612504 L 7839672.450520724,4068357.0194612504 L 7839832.274434225,4068357.0194612504 L 7839832.274434225,4068516.8433747506 L 7839992.098347725,4068516.8433747506 L 7840151.922261225,4068516.8433747506 L 7840151.922261225,4068676.667288251 L 7840311.746174726,4068676.667288251 L 7840471.570088226,4068676.667288251 L 7840471.570088226,4068836.4912017514 L 7840791.217915227,4068836.4912017514 L 7840951.041828727,4068836.4912017514 L 7840951.041828727,4068996.315115252 L 7841590.337482729,4068996.315115252 L 7841750.16139623,4068996.315115252 L 7841750.16139623,4069156.139028752 z M 7841110.865742228,4067557.899893748 L 7841110.865742228,4067398.075980248 L 7841270.689655729,4067398.075980248 L 7841270.689655729,4067557.899893748 L 7841110.865742228,4067557.899893748 z M 7843987.696185235,4067238.2520667473 L 7844147.520098736,4067238.2520667473 L 7844147.520098736,4067398.075980248 L 7843668.048358235,4067398.075980248 L 7843668.048358235,4067238.2520667473 L 7843508.224444734,4067238.2520667473 L 7843508.224444734,4067398.075980248 L 7843348.400531233,4067398.075980248 L 7843348.400531233,4067557.899893748 L 7843188.576617733,4067557.899893748 L 7843188.576617733,4067717.7238072488 L 7843028.752704233,4067717.7238072488 L 7843028.752704233,4068037.3716342496 L 7842549.280963732,4068037.3716342496 L 7842549.280963732,4068197.1955477498 L 7842229.633136731,4068197.1955477498 L 7842229.633136731,4068357.0194612504 L 7841909.98530973,4068357.0194612504 L 7841909.98530973,4068197.1955477498 L 7841750.16139623,4068197.1955477498 L 7841590.337482729,4068197.1955477498 L 7841590.337482729,4067238.2520667473 L 7841750.16139623,4067238.2520667473 L 7841750.16139623,4067078.428153247 L 7842069.80922323,4067078.428153247 L 7842069.80922323,4066918.6042397465 L 7841909.98530973,4066918.6042397465 L 7841909.98530973,4066439.1324992455 L 7841750.16139623,4066439.1324992455 L 7841750.16139623,4066279.308585745 L 7842069.80922323,4066279.308585745 L 7842069.80922323,4066119.4846722446 L 7842229.633136731,4066119.4846722446 L 7842229.633136731,4066279.308585745 L 7842389.457050231,4066279.308585745 L 7842549.280963732,4066279.308585745 L 7842549.280963732,4066439.1324992455 L 7842709.104877232,4066439.1324992455 L 7842709.104877232,4066598.9564127456 L 7843348.400531233,4066598.9564127456 L 7843508.224444734,4066598.9564127456 L 7843508.224444734,4066918.6042397465 L 7843668.048358235,4066918.6042397465 L 7843668.048358235,4067078.428153247 L 7843827.872271734,4067078.428153247 L 7843987.696185235,4067078.428153247 L 7843987.696185235,4067238.2520667473 z M 7839832.274434225,4066598.9564127456 L 7839832.274434225,4066439.1324992455 L 7839672.450520724,4066439.1324992455 L 7839672.450520724,4066119.4846722446 L 7839832.274434225,4066119.4846722446 L 7839832.274434225,4065640.012931743 L 7840311.746174726,4065640.012931743 L 7840311.746174726,4065480.189018243 L 7841270.689655729,4065480.189018243 L 7841270.689655729,4065640.012931743 L 7841430.513569228,4065640.012931743 L 7841430.513569228,4065799.836845244 L 7841590.337482729,4065799.836845244 L 7841590.337482729,4065959.660758744 L 7841750.16139623,4065959.660758744 L 7841750.16139623,4066119.4846722446 L 7841430.513569228,4066119.4846722446 L 7841430.513569228,4066279.308585745 L 7841270.689655729,4066279.308585745 L 7841270.689655729,4066598.9564127456 L 7841110.865742228,4066598.9564127456 L 7841110.865742228,4066758.7803262463 L 7840791.217915227,4066758.7803262463 L 7840791.217915227,4066439.1324992455 L 7840631.394001727,4066439.1324992455 L 7840311.746174726,4066439.1324992455 L 7840311.746174726,4066598.9564127456 L 7839832.274434225,4066598.9564127456 z M 7840951.041828727,4067238.2520667473 L 7840951.041828727,4067078.428153247 L 7841270.689655729,4067078.428153247 L 7841270.689655729,4067238.2520667473 L 7840951.041828727,4067238.2520667473 z M 7841270.689655729,4068197.1955477498 L 7841270.689655729,4067877.547720749 L 7841430.513569228,4067877.547720749 L 7841430.513569228,4068197.1955477498 L 7841270.689655729,4068197.1955477498 z\" /></g></svg>"
      ],
      "text/plain": [
       "<shapely.geometry.polygon.Polygon at 0x126f5b5d0>"
      ]
     },
     "metadata": {},
     "output_type": "display_data"
    }
   ],
   "source": [
    "pf = shpfile['geometry'][0]\n",
    "display(pf)"
   ]
  },
  {
   "cell_type": "code",
   "execution_count": null,
   "metadata": {},
   "outputs": [],
   "source": [
    "for i in range(shpfile.shape[0]):\n",
    "    pf = shpfile['geometry'][i]\n",
    "    display(pf)\n",
    "    \n",
    "    vertexLst1, featPntLst1 = mp_helper_tool_rodrigo.ConvertToGridPnts(pf)\n",
    "    vertexLst, featPntLst = ConvertToGridPnts(pf)\n",
    "    \n",
    "    # plot all together\n",
    "    \n",
    "    together = []\n",
    "    for i in range(len(featPntLst1)):\n",
    "        together +=  featPntLst1[i]\n",
    "    \n",
    "    xs = [x[0] for x in together]\n",
    "    ys = [x[1] for x in together]\n",
    "    figure(num=None, figsize=(12, 10), dpi=80, facecolor='w', edgecolor='k')\n",
    "    ax = plt.gca()\n",
    "    ax.set_aspect('equal', adjustable='datalim')\n",
    "    plt.scatter(xs, ys, s = 2)\n",
    "    plt.show()\n",
    "\n",
    "    together = []\n",
    "    for i in range(len(featPntLst)):\n",
    "        together +=  featPntLst[i]\n",
    "    \n",
    "    xs = [x[0] for x in together]\n",
    "    ys = [x[1] for x in together]\n",
    "    figure(num=None, figsize=(12, 10), dpi=80, facecolor='w', edgecolor='k')\n",
    "    ax = plt.gca()\n",
    "    ax.set_aspect('equal', adjustable='datalim')\n",
    "    plt.scatter(xs, ys, s = 2)\n",
    "    plt.show()\n",
    "        "
   ]
  },
  {
   "cell_type": "markdown",
   "metadata": {},
   "source": [
    "## Dispersion index\n"
   ]
  },
  {
   "cell_type": "code",
   "execution_count": 18,
   "metadata": {},
   "outputs": [
    {
     "name": "stdout",
     "output_type": "stream",
     "text": [
      "11.063657283782959\n"
     ]
    }
   ],
   "source": [
    "start = time.time()\n",
    "dispersion = mp_helper_tool_rodrigo.interpointDistance(featPntLst[0])\n",
    "end = time.time()\n",
    "print(end - start)"
   ]
  },
  {
   "cell_type": "code",
   "execution_count": 20,
   "metadata": {},
   "outputs": [
    {
     "data": {
      "text/plain": [
       "0.9779766265854133"
      ]
     },
     "execution_count": 20,
     "metadata": {},
     "output_type": "execute_result"
    }
   ],
   "source": [
    "A = pf.area\n",
    "r = (A / math.pi)**.5       # radius of equal area circle (circle with area equal to shape area)\n",
    "circ_interD = r * .9054\n",
    "\n",
    "# cohesion index is ratio of avg interpoint distance of circle to\n",
    "# avg interpoint distance of shape...\n",
    "CohesionIndex = circ_interD / dispersion\n",
    "CohesionIndex"
   ]
  },
  {
   "cell_type": "markdown",
   "metadata": {},
   "source": [
    "## fix the grid function"
   ]
  },
  {
   "cell_type": "code",
   "execution_count": 21,
   "metadata": {},
   "outputs": [],
   "source": [
    "# https://stackoverflow.com/questions/32275933/python-return-y-coordinates-of-polygon-path-given-x\n",
    "import shapely.geometry as sg\n",
    "def polygon_intersect_x(poly, x_val):\n",
    "    \"\"\"\n",
    "    Find the intersection points of a vertical line at\n",
    "    x=`x_val` with the Polygon `poly`.\n",
    "    \"\"\"\n",
    "    if x_val < poly.bounds[0] or x_val > poly.bounds[2]:\n",
    "        raise ValueError('`x_val` is outside the limits of the Polygon.')\n",
    "    if isinstance(poly, sg.Polygon):\n",
    "        poly = poly.boundary\n",
    "    vert_line = sg.LineString([[x_val, poly.bounds[1]],\n",
    "                               [x_val, poly.bounds[3]]])\n",
    "    pts = [pt.xy[1][0] for pt in poly.intersection(vert_line)]\n",
    "    pts.sort()\n",
    "    return pts\n",
    "\n",
    "def polygon_intersect_y(poly, y_val):\n",
    "    \"\"\"\n",
    "    Find the intersection points of a horizontal line at\n",
    "    y =`y_val` with the Polygon `poly`.\n",
    "    \"\"\"\n",
    "    #if y_val < poly.bounds[1] or y_val > poly.bounds[3]:\n",
    "    #    raise ValueError('`y_val` is outside the limits of the Polygon.')\n",
    "    \n",
    "    if isinstance(poly, sg.Polygon):\n",
    "        poly = poly.boundary\n",
    "        horiz_line = sg.LineString([[poly.bounds[0], y_val],\n",
    "                                    [poly.bounds[2], y_val]])\n",
    "    \n",
    "    pts = [pt.xy[0][0] for pt in poly.intersection(horiz_line)]\n",
    "    pts.sort()\n",
    "    pts = list(zip(pts, pts[1:]))    \n",
    "    return pts"
   ]
  },
  {
   "cell_type": "code",
   "execution_count": 22,
   "metadata": {},
   "outputs": [],
   "source": [
    "def ConvertToGridPnts(ShpGeom_mp):\n",
    "\n",
    "\n",
    "    mp_pntLst = []\n",
    "    mp_featPntLst = []\n",
    "\n",
    "    try:\n",
    "        npols = len(ShpGeom_mp)\n",
    "    except TypeError:\n",
    "        print('Not a multipolygon')\n",
    "        npols = 1\n",
    "\n",
    "    print('number of polygons:' , npols)\n",
    "    for i in range(npols):\n",
    "\n",
    "        try:\n",
    "            ShpGeom = ShpGeom_mp[i]\n",
    "        except:\n",
    "            ShpGeom = ShpGeom_mp\n",
    "        # Get shape extent and extract bounding coordinates...\n",
    "        extent = ShpGeom.bounds\n",
    "\n",
    "        #---------------------------\n",
    "        # LIST OF COORDINATES OF FEATURE VERTICES (for single part features)...\n",
    "        pntLst = []   # stores feature array...\n",
    "        subVLst = []\n",
    "\n",
    "        ExteriorCoords = iter(ShpGeom.exterior.coords)    # get first polygon if we have a multipolygon\n",
    "\n",
    "        pnt = next(ExteriorCoords)  # get point from array\n",
    "        # for each part array...\n",
    "        while pnt:\n",
    "\n",
    "            # get point XY\n",
    "            X, Y = pnt[0], pnt[1]\n",
    "            subVLst.append([X,Y])  # add XY to list\n",
    "\n",
    "            try:\n",
    "                pnt = next(ExteriorCoords)  # get next point\n",
    "            except StopIteration:\n",
    "                break\n",
    "\n",
    "\n",
    "        pntLst.append(subVLst)\n",
    "        mp_pntLst.append(pntLst)\n",
    "        subVLst = []\n",
    "\n",
    "        #----------------------------------\n",
    "        # GRID OF POINTS\n",
    "\n",
    "        featPntLst = []   # list of coordinates of points in feature\n",
    "\n",
    "        # feature area...\n",
    "        a = ShpGeom.area\n",
    "\n",
    "        # desired shape area in pixels...\n",
    "        numPix = 10000\n",
    "\n",
    "        # calculate pixel size...\n",
    "        cellsize = (a / numPix)**.5\n",
    "\n",
    "        # get min and max XY values\n",
    "        minX, minY, maxX, maxY = extent[0], extent[1], extent[2], extent[3]\n",
    "\n",
    "        # offset grid by half a pixel...\n",
    "        minX -= cellsize / 2\n",
    "        maxY += cellsize / 2\n",
    "\n",
    "        # set current Y to maxY...\n",
    "        Y = maxY\n",
    "\n",
    "        # for each row...\n",
    "        while Y >= minY:\n",
    "\n",
    "            # get range of X values within which lie the inside of feature...\n",
    "            rangeLst = polygon_intersect_y(ShpGeom_mp,Y)\n",
    "            #print(rangeLst)\n",
    "            #print('rangeLst:', rangeLst)\n",
    "\n",
    "            # set X to leftmost column...\n",
    "            X = minX\n",
    "\n",
    "            # for each column..\n",
    "            while X <= maxX:\n",
    "\n",
    "                # for each range of X values...\n",
    "                for x1,x2 in rangeLst:\n",
    "\n",
    "                    # if current X is within range, point is in shape...\n",
    "                    if x1 <= X <= x2:\n",
    "                        featPntLst.append([X,Y])   # at point to feature point list\n",
    "                        break\n",
    "\n",
    "                # X coordinate of next column\n",
    "                X += cellsize\n",
    "\n",
    "            # Y coordinate for next row...\n",
    "            Y -= cellsize\n",
    "\n",
    "\n",
    "        # remove points inside holes\n",
    "        print('number of rings in polygon', i + 1, ':', len(ShpGeom.interiors))\n",
    "\n",
    "        \n",
    "        if len(ShpGeom.interiors) > 0:\n",
    "\n",
    "            removeids = []\n",
    "            for i in range(len(featPntLst)):\n",
    "                SInsidePnt = Point(featPntLst[i])\n",
    "\n",
    "                for Interior in ShpGeom.interiors:\n",
    "                    PInterior = Polygon(Interior)\n",
    "\n",
    "                    if PInterior.contains(SInsidePnt):\n",
    "                        removeids.append(i)\n",
    "\n",
    "            featPntLst = [v for i, v in enumerate(featPntLst) if i not in removeids]\n",
    "            print(\"\\npoints removed:\", len(removeids))\n",
    "        \n",
    "        mp_featPntLst.append(featPntLst)\n",
    "\n",
    "    # return feature XY list...\n",
    "    return mp_pntLst, mp_featPntLst\n"
   ]
  },
  {
   "cell_type": "code",
   "execution_count": 122,
   "metadata": {},
   "outputs": [],
   "source": [
    "\n",
    "def interpointDistance(ptList): # requires list of XY coordinates of points in shape\n",
    "\n",
    "    # number of points in shape...\n",
    "    numPts = len(ptList)\n",
    "\n",
    "    samplSize = 10    # number of points in sample\n",
    "    samples = 30        # number of samples\n",
    "\n",
    "    avgD = 0    # average interpoint distance\n",
    "\n",
    "    # run specified number of samples...\n",
    "    for t in range(samples):\n",
    "\n",
    "        total_D = 0     # cumulative distance\n",
    "        cnt = 0         # number of calculations\n",
    "\n",
    "        # select a random sample of shape points...\n",
    "        rng = np.random.default_rng()\n",
    "        sampLst = ng.choice(featPntLst[0], samplSize)\n",
    "\n",
    "        #sampLst = random.sample(ptList, samplSize)\n",
    "        #print(len(sampLst))\n",
    "\n",
    "        # for each point in sample, calculate distance between it and\n",
    "        # every other point...\n",
    "        for pt1 in sampLst:\n",
    "\n",
    "            # get coordinates of a point...\n",
    "            X1 = pt1[0]\n",
    "            Y1 = pt1[1]\n",
    "\n",
    "            # calculate distance to all other points in sample...\n",
    "            for pt2 in sampLst:\n",
    "\n",
    "                # skip pt2 if it is the same as pt1...\n",
    "                if (pt1 == pt2).all(): continue\n",
    "\n",
    "                # get coord. of point from sample...\n",
    "                X2 = pt2[0]\n",
    "                Y2 = pt2[1]\n",
    "\n",
    "                # calculate distance to pt1...\n",
    "                dist = ((X1-X2)**2 + (Y1-Y2)**2)**.5\n",
    "\n",
    "                # cumulative interpoint distance...\n",
    "                total_D += dist\n",
    "\n",
    "                # number of calculations...\n",
    "                cnt += 1\n",
    "\n",
    "        # average interpoint distance...\n",
    "        avgD += (total_D / cnt) / samples\n",
    "\n",
    "    return avgD\n"
   ]
  },
  {
   "cell_type": "code",
   "execution_count": 123,
   "metadata": {},
   "outputs": [
    {
     "name": "stdout",
     "output_type": "stream",
     "text": [
      "Not a multipolygon\n",
      "number of polygons: 1\n",
      "number of rings in polygon 1 : 5\n",
      "\n",
      "points removed: 465\n"
     ]
    }
   ],
   "source": [
    "vertexLst, featPntLst = ConvertToGridPnts(pf)"
   ]
  },
  {
   "cell_type": "code",
   "execution_count": 124,
   "metadata": {},
   "outputs": [
    {
     "data": {
      "text/plain": [
       "5212.369667025637"
      ]
     },
     "execution_count": 124,
     "metadata": {},
     "output_type": "execute_result"
    }
   ],
   "source": [
    "interpointDistance(np.array(featPntLst[0]))"
   ]
  },
  {
   "cell_type": "code",
   "execution_count": 97,
   "metadata": {},
   "outputs": [],
   "source": [
    "sampLst = random.sample(featPntLst[0], 100)"
   ]
  },
  {
   "cell_type": "code",
   "execution_count": 99,
   "metadata": {},
   "outputs": [],
   "source": [
    "featnp = np.array(featPntLst)"
   ]
  },
  {
   "cell_type": "code",
   "execution_count": 118,
   "metadata": {},
   "outputs": [
    {
     "data": {
      "text/plain": [
       "array([[7842147.43887382, 4063232.41088291],\n",
       "       [7841735.35343759, 4061893.13321516]])"
      ]
     },
     "execution_count": 118,
     "metadata": {},
     "output_type": "execute_result"
    }
   ],
   "source": [
    "rng = np.random.default_rng()\n",
    "rng.choice(featPntLst[0], 2)"
   ]
  },
  {
   "cell_type": "code",
   "execution_count": 128,
   "metadata": {},
   "outputs": [
    {
     "data": {
      "text/plain": [
       "(9997, 2)"
      ]
     },
     "execution_count": 128,
     "metadata": {},
     "output_type": "execute_result"
    }
   ],
   "source": [
    "(np.array(featPntLst[0])).shape"
   ]
  },
  {
   "cell_type": "code",
   "execution_count": null,
   "metadata": {},
   "outputs": [],
   "source": []
  },
  {
   "cell_type": "code",
   "execution_count": null,
   "metadata": {},
   "outputs": [],
   "source": []
  },
  {
   "cell_type": "code",
   "execution_count": null,
   "metadata": {},
   "outputs": [],
   "source": []
  },
  {
   "cell_type": "code",
   "execution_count": null,
   "metadata": {},
   "outputs": [],
   "source": []
  },
  {
   "cell_type": "code",
   "execution_count": 33,
   "metadata": {},
   "outputs": [
    {
     "data": {
      "text/plain": [
       "[(25.9375, 42.5)]"
      ]
     },
     "execution_count": 33,
     "metadata": {},
     "output_type": "execute_result"
    }
   ],
   "source": [
    "# Example\n",
    "p = sg.Polygon([(0, 0),\n",
    "                (10, 0),\n",
    "                (30, 10),\n",
    "                (70, -50),\n",
    "                (80, 30),\n",
    "                (40, 40),\n",
    "                (60, 80),\n",
    "                (50, 100),\n",
    "                (15, 20),\n",
    "                (0, 0)])\n",
    "y_val = 45\n",
    "points = polygon_intersect_y(p, y_val)\n",
    "points\n"
   ]
  },
  {
   "cell_type": "code",
   "execution_count": 6,
   "metadata": {},
   "outputs": [
    {
     "data": {
      "text/plain": [
       "[<matplotlib.lines.Line2D at 0x11ce03d10>]"
      ]
     },
     "execution_count": 6,
     "metadata": {},
     "output_type": "execute_result"
    },
    {
     "data": {
      "image/png": "[encoded data removed]",
      "text/plain": [
       "<Figure size 432x288 with 1 Axes>"
      ]
     },
     "metadata": {
      "needs_background": "light"
     },
     "output_type": "display_data"
    }
   ],
   "source": [
    "# Example\n",
    "p = sg.Polygon([(0, 0),\n",
    "                (10, 0),\n",
    "                (30, 10),\n",
    "                (70, -50),\n",
    "                (80, 30),\n",
    "                (40, 40),\n",
    "                (60, 80),\n",
    "                (50, 100),\n",
    "                (15, 20),\n",
    "                (0, 0)])\n",
    "x_val = 45\n",
    "points = polygon_intersect_x(p, x_val)\n",
    "minmax = [points[0], points[-1]]  # The values are already sorted\n",
    "\n",
    "ax = plt.gca()\n",
    "\n",
    "ax.fill(*p.boundary.xy, color='y')\n",
    "ax.axvline(x_val, color='b')\n",
    "\n",
    "ax.plot([x_val, ] * len(points), points, 'b.')\n",
    "ax.plot([x_val, ] * 2, minmax, 'ro', ms=10)"
   ]
  },
  {
   "cell_type": "code",
   "execution_count": 4,
   "metadata": {},
   "outputs": [
    {
     "data": {
      "text/plain": [
       "[<matplotlib.lines.Line2D at 0x1173c1910>]"
      ]
     },
     "execution_count": 4,
     "metadata": {},
     "output_type": "execute_result"
    },
    {
     "data": {
      "image/png": "[encoded data removed]",
      "text/plain": [
       "<Figure size 432x288 with 1 Axes>"
      ]
     },
     "metadata": {
      "needs_background": "light"
     },
     "output_type": "display_data"
    }
   ],
   "source": [
    "y_val = 0\n",
    "points = polygon_intersect_y(p, y_val)\n",
    "minmax = [points[0], points[-1]]  # The values are already sorted\n",
    "\n",
    "ax = plt.gca()\n",
    "\n",
    "ax.fill(*p.boundary.xy, color='y')\n",
    "ax.axhline(y_val, color='b')\n",
    "\n",
    "ax.plot([y_val,] * len(points), points, 'b.')\n",
    "#ax.plot([y_val, ] * 2, minmax, 'ro', ms=10)\n"
   ]
  }
 ],
 "metadata": {
  "kernelspec": {
   "display_name": "Python 3",
   "language": "python",
   "name": "python3"
  },
  "language_info": {
   "codemirror_mode": {
    "name": "ipython",
    "version": 3
   },
   "file_extension": ".py",
   "mimetype": "text/x-python",
   "name": "python",
   "nbconvert_exporter": "python",
   "pygments_lexer": "ipython3",
   "version": "3.7.4"
  },
  "nteract": {
   "version": "0.21.0"
  }
 },
 "nbformat": 4,
 "nbformat_minor": 2
}
